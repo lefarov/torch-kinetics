{
 "cells": [
  {
   "cell_type": "code",
   "execution_count": 1,
   "metadata": {
    "collapsed": true,
    "ExecuteTime": {
     "end_time": "2023-08-08T19:06:55.961069Z",
     "start_time": "2023-08-08T19:06:53.805412Z"
    }
   },
   "outputs": [],
   "source": [
    "import torch\n",
    "from torch.autograd import profiler\n",
    "\n",
    "from torch_kinetics import models, reactions"
   ]
  },
  {
   "cell_type": "code",
   "execution_count": 2,
   "outputs": [],
   "source": [
    "reaction_1 = reactions.UniReaction(\n",
    "    name=\"A->B\",\n",
    "    enzyme=\"enz_1\",\n",
    "    substrates=[\"A\"],\n",
    "    products=[\"B\"],\n",
    "    kcat=34.0,\n",
    "    kma=500.0,\n",
    ")\n",
    "reaction_2 = reactions.UniReaction(\n",
    "    name=\"B->C\",\n",
    "    enzyme=\"enz_2\",\n",
    "    substrates=[\"B\"],\n",
    "    products=[\"C\"],\n",
    "    kcat=200.0,\n",
    "    kma=8000.0,\n",
    ")\n",
    "\n",
    "model = models.Model()\n",
    "model.add_reaction(reaction_1)\n",
    "model.add_reaction(reaction_2)"
   ],
   "metadata": {
    "collapsed": false,
    "ExecuteTime": {
     "end_time": "2023-08-08T19:06:58.017627Z",
     "start_time": "2023-08-08T19:06:58.015003Z"
    }
   }
  },
  {
   "cell_type": "code",
   "execution_count": null,
   "outputs": [],
   "source": [
    "s0_rand = torch.rand(100, 5)\n",
    "s0_rand"
   ],
   "metadata": {
    "collapsed": false
   }
  },
  {
   "cell_type": "code",
   "execution_count": null,
   "outputs": [],
   "source": [
    "model(torch.zeros(1), s0_rand)"
   ],
   "metadata": {
    "collapsed": false
   }
  },
  {
   "cell_type": "code",
   "execution_count": 10,
   "outputs": [
    {
     "name": "stderr",
     "output_type": "stream",
     "text": [
      "STAGE:2023-08-08 21:08:46 45415:2784074 ActivityProfilerController.cpp:311] Completed Stage: Warm Up\n",
      "STAGE:2023-08-08 21:08:46 45415:2784074 ActivityProfilerController.cpp:317] Completed Stage: Collection\n",
      "STAGE:2023-08-08 21:08:46 45415:2784074 ActivityProfilerController.cpp:321] Completed Stage: Post Processing\n"
     ]
    }
   ],
   "source": [
    "with profiler.profile(with_stack=True, profile_memory=True) as prof:\n",
    "    s_prime = model(torch.zeros(1), s0_rand)"
   ],
   "metadata": {
    "collapsed": false,
    "ExecuteTime": {
     "end_time": "2023-08-08T19:08:46.762841Z",
     "start_time": "2023-08-08T19:08:46.749380Z"
    }
   }
  },
  {
   "cell_type": "markdown",
   "source": [
    "### Baseline execution"
   ],
   "metadata": {
    "collapsed": false
   }
  },
  {
   "cell_type": "code",
   "execution_count": 24,
   "outputs": [
    {
     "name": "stdout",
     "output_type": "stream",
     "text": [
      "------------------------  ------------  ------------  ------------  ------------  ------------  ------------  ------------  ------------  \n",
      "                    Name    Self CPU %      Self CPU   CPU total %     CPU total  CPU time avg       CPU Mem  Self CPU Mem    # of Calls  \n",
      "------------------------  ------------  ------------  ------------  ------------  ------------  ------------  ------------  ------------  \n",
      "               aten::mul        16.96%      49.000us        16.96%      49.000us      12.250us       1.56 Kb       1.56 Kb             4  \n",
      "            aten::expand        12.46%      36.000us        13.49%      39.000us       3.250us           0 b           0 b            12  \n",
      "             aten::index        10.03%      29.000us        12.80%      37.000us      18.500us          16 b          16 b             2  \n",
      "       aten::scatter_add        10.03%      29.000us        12.80%      37.000us       9.250us       7.81 Kb       7.81 Kb             4  \n",
      "            aten::gather         9.69%      28.000us         9.69%      28.000us       7.000us       1.56 Kb       1.56 Kb             4  \n",
      "             aten::slice         6.92%      20.000us         7.61%      22.000us       5.500us           0 b           0 b             4  \n",
      "               aten::div         6.92%      20.000us         6.92%      20.000us      10.000us         800 b         800 b             2  \n",
      "               aten::add         6.23%      18.000us         6.23%      18.000us       9.000us         800 b         800 b             2  \n",
      "             aten::empty         4.84%      14.000us         4.84%      14.000us       4.667us          20 b          20 b             3  \n",
      "               aten::neg         4.15%      12.000us         4.15%      12.000us       6.000us         800 b         800 b             2  \n",
      "------------------------  ------------  ------------  ------------  ------------  ------------  ------------  ------------  ------------  \n",
      "Self CPU time total: 289.000us\n",
      "\n"
     ]
    }
   ],
   "source": [
    "print(prof.key_averages(group_by_stack_n=5).table(sort_by='self_cpu_time_total', row_limit=10))"
   ],
   "metadata": {
    "collapsed": false,
    "ExecuteTime": {
     "end_time": "2023-08-08T18:30:34.010370Z",
     "start_time": "2023-08-08T18:30:34.006190Z"
    }
   }
  },
  {
   "cell_type": "markdown",
   "source": [
    "### Replace `scatter_ad` with Inplace `scatter_ad_`"
   ],
   "metadata": {
    "collapsed": false
   }
  },
  {
   "cell_type": "code",
   "execution_count": 7,
   "outputs": [
    {
     "name": "stdout",
     "output_type": "stream",
     "text": [
      "------------------------  ------------  ------------  ------------  ------------  ------------  ------------  ------------  ------------  \n",
      "                    Name    Self CPU %      Self CPU   CPU total %     CPU total  CPU time avg       CPU Mem  Self CPU Mem    # of Calls  \n",
      "------------------------  ------------  ------------  ------------  ------------  ------------  ------------  ------------  ------------  \n",
      "               aten::mul        15.23%      39.000us        15.23%      39.000us       9.750us       1.56 Kb       1.56 Kb             4  \n",
      "      aten::scatter_add_        12.11%      31.000us        12.11%      31.000us       7.750us           0 b           0 b             4  \n",
      "            aten::expand        11.33%      29.000us        12.11%      31.000us       2.583us           0 b           0 b            12  \n",
      "             aten::empty        10.55%      27.000us        10.55%      27.000us       9.000us          20 b          20 b             3  \n",
      "             aten::index        10.16%      26.000us        12.89%      33.000us      16.500us          16 b          16 b             2  \n",
      "            aten::gather         7.81%      20.000us         7.81%      20.000us       5.000us       1.56 Kb       1.56 Kb             4  \n",
      "             aten::slice         7.42%      19.000us         8.20%      21.000us       5.250us           0 b           0 b             4  \n",
      "               aten::add         4.69%      12.000us         4.69%      12.000us       6.000us         800 b         800 b             2  \n",
      "             aten::zeros         4.30%      11.000us        12.50%      32.000us      32.000us           4 b           0 b             1  \n",
      "               aten::div         4.30%      11.000us         4.30%      11.000us       5.500us         800 b         800 b             2  \n",
      "------------------------  ------------  ------------  ------------  ------------  ------------  ------------  ------------  ------------  \n",
      "Self CPU time total: 256.000us\n",
      "\n"
     ]
    }
   ],
   "source": [
    "print(prof.key_averages(group_by_stack_n=5).table(sort_by='self_cpu_time_total', row_limit=10))"
   ],
   "metadata": {
    "collapsed": false,
    "ExecuteTime": {
     "end_time": "2023-08-08T18:34:31.160615Z",
     "start_time": "2023-08-08T18:34:31.156333Z"
    }
   }
  },
  {
   "cell_type": "markdown",
   "source": [
    "### Replace `gather` and `scatter_add_` with `index_select` and `index_add_`"
   ],
   "metadata": {
    "collapsed": false
   }
  },
  {
   "cell_type": "code",
   "execution_count": 11,
   "outputs": [
    {
     "name": "stdout",
     "output_type": "stream",
     "text": [
      "------------------------  ------------  ------------  ------------  ------------  ------------  ------------  ------------  ------------  \n",
      "                    Name    Self CPU %      Self CPU   CPU total %     CPU total  CPU time avg       CPU Mem  Self CPU Mem    # of Calls  \n",
      "------------------------  ------------  ------------  ------------  ------------  ------------  ------------  ------------  ------------  \n",
      "        aten::index_add_        21.29%      66.000us        28.71%      89.000us      22.250us           0 b           0 b             4  \n",
      "               aten::mul        13.23%      41.000us        13.23%      41.000us      10.250us       1.56 Kb       1.56 Kb             4  \n",
      "               aten::div         9.68%      30.000us         9.68%      30.000us      15.000us         800 b         800 b             2  \n",
      "             aten::empty         8.71%      27.000us         8.71%      27.000us       3.857us          20 b          20 b             7  \n",
      "            aten::select         7.10%      22.000us         7.42%      23.000us       2.875us           0 b           0 b             8  \n",
      "             aten::slice         6.77%      21.000us         7.74%      24.000us       6.000us           0 b           0 b             4  \n",
      "               aten::add         6.77%      21.000us         6.77%      21.000us      10.500us         800 b         800 b             2  \n",
      "      aten::index_select         5.81%      18.000us         6.13%      19.000us       4.750us       1.17 Kb       1.17 Kb             4  \n",
      "             aten::index         5.48%      17.000us        14.19%      44.000us      22.000us          16 b          16 b             2  \n",
      "           aten::reshape         5.48%      17.000us         5.48%      17.000us       8.500us           0 b           0 b             2  \n",
      "------------------------  ------------  ------------  ------------  ------------  ------------  ------------  ------------  ------------  \n",
      "Self CPU time total: 310.000us\n",
      "\n"
     ]
    }
   ],
   "source": [
    "print(prof.key_averages(group_by_stack_n=5).table(sort_by='self_cpu_time_total', row_limit=10))"
   ],
   "metadata": {
    "collapsed": false,
    "ExecuteTime": {
     "end_time": "2023-08-08T19:08:56.659540Z",
     "start_time": "2023-08-08T19:08:56.654688Z"
    }
   }
  },
  {
   "cell_type": "markdown",
   "source": [
    "## Observations\n",
    "- Surprisingly the version with explicit `expand` combined with `gather` and `scatter_add_` has the best time performance\n",
    "- Decided to leave the `index_select` and `index_add_` version because of the better readability"
   ],
   "metadata": {
    "collapsed": false
   }
  },
  {
   "cell_type": "code",
   "execution_count": null,
   "outputs": [],
   "source": [],
   "metadata": {
    "collapsed": false
   }
  }
 ],
 "metadata": {
  "kernelspec": {
   "display_name": "Python 3",
   "language": "python",
   "name": "python3"
  },
  "language_info": {
   "codemirror_mode": {
    "name": "ipython",
    "version": 2
   },
   "file_extension": ".py",
   "mimetype": "text/x-python",
   "name": "python",
   "nbconvert_exporter": "python",
   "pygments_lexer": "ipython2",
   "version": "2.7.6"
  }
 },
 "nbformat": 4,
 "nbformat_minor": 0
}
